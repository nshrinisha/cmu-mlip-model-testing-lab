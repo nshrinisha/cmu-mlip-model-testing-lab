{
 "cells": [
  {
   "cell_type": "markdown",
   "metadata": {
    "id": "XHtaPysVSNZN"
   },
   "source": [
    "# Step 1 - Install the required dependencies and make sure the python version is 3.10 and above"
   ]
  },
  {
   "cell_type": "code",
   "execution_count": 1,
   "metadata": {
    "id": "APS6D3eiSAR_"
   },
   "outputs": [
    {
     "name": "stdout",
     "output_type": "stream",
     "text": [
      "Requirement already satisfied: zenoml in /Users/saji/.pyenv/versions/3.10.0/lib/python3.10/site-packages (0.6.4)\n",
      "Requirement already satisfied: fastapi<0.101.0,>=0.95.1 in /Users/saji/.pyenv/versions/3.10.0/lib/python3.10/site-packages (from zenoml) (0.100.1)\n",
      "Requirement already satisfied: inquirer<4.0.0,>=3.1.2 in /Users/saji/.pyenv/versions/3.10.0/lib/python3.10/site-packages (from zenoml) (3.4.0)\n",
      "Requirement already satisfied: nest-asyncio<2.0.0,>=1.5.6 in /Users/saji/.pyenv/versions/3.10.0/lib/python3.10/site-packages (from zenoml) (1.6.0)\n",
      "Requirement already satisfied: opentsne<1.1.0,>=0.7.1 in /Users/saji/.pyenv/versions/3.10.0/lib/python3.10/site-packages (from zenoml) (1.0.2)\n",
      "Requirement already satisfied: pandas<3.0.0,>=2.0.0 in /Users/saji/.pyenv/versions/3.10.0/lib/python3.10/site-packages (from zenoml) (2.2.3)\n",
      "Requirement already satisfied: pathos<0.4.0,>=0.3.0 in /Users/saji/.pyenv/versions/3.10.0/lib/python3.10/site-packages (from zenoml) (0.3.2)\n",
      "Requirement already satisfied: pydantic<2.0.0 in /Users/saji/.pyenv/versions/3.10.0/lib/python3.10/site-packages (from zenoml) (1.10.21)\n",
      "Requirement already satisfied: requests<3.0.0,>=2.28.1 in /Users/saji/.pyenv/versions/3.10.0/lib/python3.10/site-packages (from zenoml) (2.32.3)\n",
      "Requirement already satisfied: setuptools in /Users/saji/.pyenv/versions/3.10.0/lib/python3.10/site-packages (from zenoml) (57.4.0)\n",
      "Requirement already satisfied: tomli<3.0.0,>=2.0.1 in /Users/saji/.pyenv/versions/3.10.0/lib/python3.10/site-packages (from zenoml) (2.2.1)\n",
      "Requirement already satisfied: tqdm<5.0.0,>=4.64.0 in /Users/saji/.pyenv/versions/3.10.0/lib/python3.10/site-packages (from zenoml) (4.67.1)\n",
      "Requirement already satisfied: uvicorn<0.24,>=0.22 in /Users/saji/.pyenv/versions/3.10.0/lib/python3.10/site-packages (from zenoml) (0.23.2)\n",
      "Requirement already satisfied: websockets<12.0,>=11.0 in /Users/saji/.pyenv/versions/3.10.0/lib/python3.10/site-packages (from zenoml) (11.0.3)\n",
      "Requirement already satisfied: zeno-sliceline<0.0.2,>=0.0.1 in /Users/saji/.pyenv/versions/3.10.0/lib/python3.10/site-packages (from zenoml) (0.0.1)\n",
      "Requirement already satisfied: starlette<0.28.0,>=0.27.0 in /Users/saji/.pyenv/versions/3.10.0/lib/python3.10/site-packages (from fastapi<0.101.0,>=0.95.1->zenoml) (0.27.0)\n",
      "Requirement already satisfied: typing-extensions>=4.5.0 in /Users/saji/.pyenv/versions/3.10.0/lib/python3.10/site-packages (from fastapi<0.101.0,>=0.95.1->zenoml) (4.12.2)\n",
      "Requirement already satisfied: blessed>=1.19.0 in /Users/saji/.pyenv/versions/3.10.0/lib/python3.10/site-packages (from inquirer<4.0.0,>=3.1.2->zenoml) (1.20.0)\n",
      "Requirement already satisfied: editor>=1.6.0 in /Users/saji/.pyenv/versions/3.10.0/lib/python3.10/site-packages (from inquirer<4.0.0,>=3.1.2->zenoml) (1.6.6)\n",
      "Requirement already satisfied: readchar>=4.2.0 in /Users/saji/.pyenv/versions/3.10.0/lib/python3.10/site-packages (from inquirer<4.0.0,>=3.1.2->zenoml) (4.2.1)\n",
      "Requirement already satisfied: numpy>=1.16.6 in /Users/saji/.pyenv/versions/3.10.0/lib/python3.10/site-packages (from opentsne<1.1.0,>=0.7.1->zenoml) (1.26.4)\n",
      "Requirement already satisfied: scikit-learn>=0.20 in /Users/saji/.pyenv/versions/3.10.0/lib/python3.10/site-packages (from opentsne<1.1.0,>=0.7.1->zenoml) (1.6.1)\n",
      "Requirement already satisfied: scipy in /Users/saji/.pyenv/versions/3.10.0/lib/python3.10/site-packages (from opentsne<1.1.0,>=0.7.1->zenoml) (1.15.2)\n",
      "Requirement already satisfied: python-dateutil>=2.8.2 in /Users/saji/.pyenv/versions/3.10.0/lib/python3.10/site-packages (from pandas<3.0.0,>=2.0.0->zenoml) (2.9.0.post0)\n",
      "Requirement already satisfied: pytz>=2020.1 in /Users/saji/.pyenv/versions/3.10.0/lib/python3.10/site-packages (from pandas<3.0.0,>=2.0.0->zenoml) (2025.1)\n",
      "Requirement already satisfied: tzdata>=2022.7 in /Users/saji/.pyenv/versions/3.10.0/lib/python3.10/site-packages (from pandas<3.0.0,>=2.0.0->zenoml) (2025.1)\n",
      "Requirement already satisfied: ppft>=1.7.6.8 in /Users/saji/.pyenv/versions/3.10.0/lib/python3.10/site-packages (from pathos<0.4.0,>=0.3.0->zenoml) (1.7.6.9)\n",
      "Requirement already satisfied: dill>=0.3.8 in /Users/saji/.pyenv/versions/3.10.0/lib/python3.10/site-packages (from pathos<0.4.0,>=0.3.0->zenoml) (0.3.8)\n",
      "Requirement already satisfied: pox>=0.3.4 in /Users/saji/.pyenv/versions/3.10.0/lib/python3.10/site-packages (from pathos<0.4.0,>=0.3.0->zenoml) (0.3.5)\n",
      "Requirement already satisfied: multiprocess>=0.70.16 in /Users/saji/.pyenv/versions/3.10.0/lib/python3.10/site-packages (from pathos<0.4.0,>=0.3.0->zenoml) (0.70.16)\n",
      "Requirement already satisfied: charset-normalizer<4,>=2 in /Users/saji/.pyenv/versions/3.10.0/lib/python3.10/site-packages (from requests<3.0.0,>=2.28.1->zenoml) (3.4.1)\n",
      "Requirement already satisfied: idna<4,>=2.5 in /Users/saji/.pyenv/versions/3.10.0/lib/python3.10/site-packages (from requests<3.0.0,>=2.28.1->zenoml) (3.10)\n",
      "Requirement already satisfied: urllib3<3,>=1.21.1 in /Users/saji/.pyenv/versions/3.10.0/lib/python3.10/site-packages (from requests<3.0.0,>=2.28.1->zenoml) (2.3.0)\n",
      "Requirement already satisfied: certifi>=2017.4.17 in /Users/saji/.pyenv/versions/3.10.0/lib/python3.10/site-packages (from requests<3.0.0,>=2.28.1->zenoml) (2025.1.31)\n",
      "Requirement already satisfied: click>=7.0 in /Users/saji/.pyenv/versions/3.10.0/lib/python3.10/site-packages (from uvicorn<0.24,>=0.22->zenoml) (8.1.8)\n",
      "Requirement already satisfied: h11>=0.8 in /Users/saji/.pyenv/versions/3.10.0/lib/python3.10/site-packages (from uvicorn<0.24,>=0.22->zenoml) (0.14.0)\n",
      "Requirement already satisfied: wcwidth>=0.1.4 in /Users/saji/.pyenv/versions/3.10.0/lib/python3.10/site-packages (from blessed>=1.19.0->inquirer<4.0.0,>=3.1.2->zenoml) (0.2.13)\n",
      "Requirement already satisfied: six>=1.9.0 in /Users/saji/.pyenv/versions/3.10.0/lib/python3.10/site-packages (from blessed>=1.19.0->inquirer<4.0.0,>=3.1.2->zenoml) (1.17.0)\n",
      "Requirement already satisfied: runs in /Users/saji/.pyenv/versions/3.10.0/lib/python3.10/site-packages (from editor>=1.6.0->inquirer<4.0.0,>=3.1.2->zenoml) (1.2.2)\n",
      "Requirement already satisfied: xmod in /Users/saji/.pyenv/versions/3.10.0/lib/python3.10/site-packages (from editor>=1.6.0->inquirer<4.0.0,>=3.1.2->zenoml) (1.8.1)\n",
      "Requirement already satisfied: joblib>=1.2.0 in /Users/saji/.pyenv/versions/3.10.0/lib/python3.10/site-packages (from scikit-learn>=0.20->opentsne<1.1.0,>=0.7.1->zenoml) (1.4.2)\n",
      "Requirement already satisfied: threadpoolctl>=3.1.0 in /Users/saji/.pyenv/versions/3.10.0/lib/python3.10/site-packages (from scikit-learn>=0.20->opentsne<1.1.0,>=0.7.1->zenoml) (3.5.0)\n",
      "Requirement already satisfied: anyio<5,>=3.4.0 in /Users/saji/.pyenv/versions/3.10.0/lib/python3.10/site-packages (from starlette<0.28.0,>=0.27.0->fastapi<0.101.0,>=0.95.1->zenoml) (4.8.0)\n",
      "Requirement already satisfied: exceptiongroup>=1.0.2 in /Users/saji/.pyenv/versions/3.10.0/lib/python3.10/site-packages (from anyio<5,>=3.4.0->starlette<0.28.0,>=0.27.0->fastapi<0.101.0,>=0.95.1->zenoml) (1.2.2)\n",
      "Requirement already satisfied: sniffio>=1.1 in /Users/saji/.pyenv/versions/3.10.0/lib/python3.10/site-packages (from anyio<5,>=3.4.0->starlette<0.28.0,>=0.27.0->fastapi<0.101.0,>=0.95.1->zenoml) (1.3.1)\n"
     ]
    }
   ],
   "source": [
    "!pip install zenoml"
   ]
  },
  {
   "cell_type": "code",
   "execution_count": 2,
   "metadata": {},
   "outputs": [
    {
     "name": "stdout",
     "output_type": "stream",
     "text": [
      "Requirement already satisfied: datasets in /Users/saji/.pyenv/versions/3.10.0/lib/python3.10/site-packages (3.3.1)\n",
      "Requirement already satisfied: filelock in /Users/saji/.pyenv/versions/3.10.0/lib/python3.10/site-packages (from datasets) (3.17.0)\n",
      "Requirement already satisfied: numpy>=1.17 in /Users/saji/.pyenv/versions/3.10.0/lib/python3.10/site-packages (from datasets) (1.26.4)\n",
      "Requirement already satisfied: pyarrow>=15.0.0 in /Users/saji/.pyenv/versions/3.10.0/lib/python3.10/site-packages (from datasets) (19.0.0)\n",
      "Requirement already satisfied: dill<0.3.9,>=0.3.0 in /Users/saji/.pyenv/versions/3.10.0/lib/python3.10/site-packages (from datasets) (0.3.8)\n",
      "Requirement already satisfied: pandas in /Users/saji/.pyenv/versions/3.10.0/lib/python3.10/site-packages (from datasets) (2.2.3)\n",
      "Requirement already satisfied: requests>=2.32.2 in /Users/saji/.pyenv/versions/3.10.0/lib/python3.10/site-packages (from datasets) (2.32.3)\n",
      "Requirement already satisfied: tqdm>=4.66.3 in /Users/saji/.pyenv/versions/3.10.0/lib/python3.10/site-packages (from datasets) (4.67.1)\n",
      "Requirement already satisfied: xxhash in /Users/saji/.pyenv/versions/3.10.0/lib/python3.10/site-packages (from datasets) (3.5.0)\n",
      "Requirement already satisfied: multiprocess<0.70.17 in /Users/saji/.pyenv/versions/3.10.0/lib/python3.10/site-packages (from datasets) (0.70.16)\n",
      "Requirement already satisfied: fsspec<=2024.12.0,>=2023.1.0 in /Users/saji/.pyenv/versions/3.10.0/lib/python3.10/site-packages (from fsspec[http]<=2024.12.0,>=2023.1.0->datasets) (2024.12.0)\n",
      "Requirement already satisfied: aiohttp in /Users/saji/.pyenv/versions/3.10.0/lib/python3.10/site-packages (from datasets) (3.11.12)\n",
      "Requirement already satisfied: huggingface-hub>=0.24.0 in /Users/saji/.pyenv/versions/3.10.0/lib/python3.10/site-packages (from datasets) (0.28.1)\n",
      "Requirement already satisfied: packaging in /Users/saji/.pyenv/versions/3.10.0/lib/python3.10/site-packages (from datasets) (24.2)\n",
      "Requirement already satisfied: pyyaml>=5.1 in /Users/saji/.pyenv/versions/3.10.0/lib/python3.10/site-packages (from datasets) (6.0.2)\n",
      "Requirement already satisfied: aiohappyeyeballs>=2.3.0 in /Users/saji/.pyenv/versions/3.10.0/lib/python3.10/site-packages (from aiohttp->datasets) (2.4.6)\n",
      "Requirement already satisfied: aiosignal>=1.1.2 in /Users/saji/.pyenv/versions/3.10.0/lib/python3.10/site-packages (from aiohttp->datasets) (1.3.2)\n",
      "Requirement already satisfied: async-timeout<6.0,>=4.0 in /Users/saji/.pyenv/versions/3.10.0/lib/python3.10/site-packages (from aiohttp->datasets) (5.0.1)\n",
      "Requirement already satisfied: attrs>=17.3.0 in /Users/saji/.pyenv/versions/3.10.0/lib/python3.10/site-packages (from aiohttp->datasets) (25.1.0)\n",
      "Requirement already satisfied: frozenlist>=1.1.1 in /Users/saji/.pyenv/versions/3.10.0/lib/python3.10/site-packages (from aiohttp->datasets) (1.5.0)\n",
      "Requirement already satisfied: multidict<7.0,>=4.5 in /Users/saji/.pyenv/versions/3.10.0/lib/python3.10/site-packages (from aiohttp->datasets) (6.1.0)\n",
      "Requirement already satisfied: propcache>=0.2.0 in /Users/saji/.pyenv/versions/3.10.0/lib/python3.10/site-packages (from aiohttp->datasets) (0.2.1)\n",
      "Requirement already satisfied: yarl<2.0,>=1.17.0 in /Users/saji/.pyenv/versions/3.10.0/lib/python3.10/site-packages (from aiohttp->datasets) (1.18.3)\n",
      "Requirement already satisfied: typing-extensions>=3.7.4.3 in /Users/saji/.pyenv/versions/3.10.0/lib/python3.10/site-packages (from huggingface-hub>=0.24.0->datasets) (4.12.2)\n",
      "Requirement already satisfied: charset-normalizer<4,>=2 in /Users/saji/.pyenv/versions/3.10.0/lib/python3.10/site-packages (from requests>=2.32.2->datasets) (3.4.1)\n",
      "Requirement already satisfied: idna<4,>=2.5 in /Users/saji/.pyenv/versions/3.10.0/lib/python3.10/site-packages (from requests>=2.32.2->datasets) (3.10)\n",
      "Requirement already satisfied: urllib3<3,>=1.21.1 in /Users/saji/.pyenv/versions/3.10.0/lib/python3.10/site-packages (from requests>=2.32.2->datasets) (2.3.0)\n",
      "Requirement already satisfied: certifi>=2017.4.17 in /Users/saji/.pyenv/versions/3.10.0/lib/python3.10/site-packages (from requests>=2.32.2->datasets) (2025.1.31)\n",
      "Requirement already satisfied: python-dateutil>=2.8.2 in /Users/saji/.pyenv/versions/3.10.0/lib/python3.10/site-packages (from pandas->datasets) (2.9.0.post0)\n",
      "Requirement already satisfied: pytz>=2020.1 in /Users/saji/.pyenv/versions/3.10.0/lib/python3.10/site-packages (from pandas->datasets) (2025.1)\n",
      "Requirement already satisfied: tzdata>=2022.7 in /Users/saji/.pyenv/versions/3.10.0/lib/python3.10/site-packages (from pandas->datasets) (2025.1)\n",
      "Requirement already satisfied: six>=1.5 in /Users/saji/.pyenv/versions/3.10.0/lib/python3.10/site-packages (from python-dateutil>=2.8.2->pandas->datasets) (1.17.0)\n",
      "Requirement already satisfied: transformers in /Users/saji/.pyenv/versions/3.10.0/lib/python3.10/site-packages (4.49.0)\n",
      "Requirement already satisfied: filelock in /Users/saji/.pyenv/versions/3.10.0/lib/python3.10/site-packages (from transformers) (3.17.0)\n",
      "Requirement already satisfied: huggingface-hub<1.0,>=0.26.0 in /Users/saji/.pyenv/versions/3.10.0/lib/python3.10/site-packages (from transformers) (0.28.1)\n",
      "Requirement already satisfied: numpy>=1.17 in /Users/saji/.pyenv/versions/3.10.0/lib/python3.10/site-packages (from transformers) (1.26.4)\n",
      "Requirement already satisfied: packaging>=20.0 in /Users/saji/.pyenv/versions/3.10.0/lib/python3.10/site-packages (from transformers) (24.2)\n",
      "Requirement already satisfied: pyyaml>=5.1 in /Users/saji/.pyenv/versions/3.10.0/lib/python3.10/site-packages (from transformers) (6.0.2)\n",
      "Requirement already satisfied: regex!=2019.12.17 in /Users/saji/.pyenv/versions/3.10.0/lib/python3.10/site-packages (from transformers) (2024.11.6)\n",
      "Requirement already satisfied: requests in /Users/saji/.pyenv/versions/3.10.0/lib/python3.10/site-packages (from transformers) (2.32.3)\n",
      "Requirement already satisfied: tokenizers<0.22,>=0.21 in /Users/saji/.pyenv/versions/3.10.0/lib/python3.10/site-packages (from transformers) (0.21.0)\n",
      "Requirement already satisfied: safetensors>=0.4.1 in /Users/saji/.pyenv/versions/3.10.0/lib/python3.10/site-packages (from transformers) (0.5.2)\n",
      "Requirement already satisfied: tqdm>=4.27 in /Users/saji/.pyenv/versions/3.10.0/lib/python3.10/site-packages (from transformers) (4.67.1)\n",
      "Requirement already satisfied: fsspec>=2023.5.0 in /Users/saji/.pyenv/versions/3.10.0/lib/python3.10/site-packages (from huggingface-hub<1.0,>=0.26.0->transformers) (2024.12.0)\n",
      "Requirement already satisfied: typing-extensions>=3.7.4.3 in /Users/saji/.pyenv/versions/3.10.0/lib/python3.10/site-packages (from huggingface-hub<1.0,>=0.26.0->transformers) (4.12.2)\n",
      "Requirement already satisfied: charset-normalizer<4,>=2 in /Users/saji/.pyenv/versions/3.10.0/lib/python3.10/site-packages (from requests->transformers) (3.4.1)\n",
      "Requirement already satisfied: idna<4,>=2.5 in /Users/saji/.pyenv/versions/3.10.0/lib/python3.10/site-packages (from requests->transformers) (3.10)\n",
      "Requirement already satisfied: urllib3<3,>=1.21.1 in /Users/saji/.pyenv/versions/3.10.0/lib/python3.10/site-packages (from requests->transformers) (2.3.0)\n",
      "Requirement already satisfied: certifi>=2017.4.17 in /Users/saji/.pyenv/versions/3.10.0/lib/python3.10/site-packages (from requests->transformers) (2025.1.31)\n",
      "Requirement already satisfied: transformers in /Users/saji/.pyenv/versions/3.10.0/lib/python3.10/site-packages (4.49.0)\n",
      "Requirement already satisfied: torch in /Users/saji/.pyenv/versions/3.10.0/lib/python3.10/site-packages (2.6.0)\n",
      "Requirement already satisfied: filelock in /Users/saji/.pyenv/versions/3.10.0/lib/python3.10/site-packages (from transformers) (3.17.0)\n",
      "Requirement already satisfied: huggingface-hub<1.0,>=0.26.0 in /Users/saji/.pyenv/versions/3.10.0/lib/python3.10/site-packages (from transformers) (0.28.1)\n",
      "Requirement already satisfied: numpy>=1.17 in /Users/saji/.pyenv/versions/3.10.0/lib/python3.10/site-packages (from transformers) (1.26.4)\n",
      "Requirement already satisfied: packaging>=20.0 in /Users/saji/.pyenv/versions/3.10.0/lib/python3.10/site-packages (from transformers) (24.2)\n",
      "Requirement already satisfied: pyyaml>=5.1 in /Users/saji/.pyenv/versions/3.10.0/lib/python3.10/site-packages (from transformers) (6.0.2)\n",
      "Requirement already satisfied: regex!=2019.12.17 in /Users/saji/.pyenv/versions/3.10.0/lib/python3.10/site-packages (from transformers) (2024.11.6)\n",
      "Requirement already satisfied: requests in /Users/saji/.pyenv/versions/3.10.0/lib/python3.10/site-packages (from transformers) (2.32.3)\n",
      "Requirement already satisfied: tokenizers<0.22,>=0.21 in /Users/saji/.pyenv/versions/3.10.0/lib/python3.10/site-packages (from transformers) (0.21.0)\n",
      "Requirement already satisfied: safetensors>=0.4.1 in /Users/saji/.pyenv/versions/3.10.0/lib/python3.10/site-packages (from transformers) (0.5.2)\n",
      "Requirement already satisfied: tqdm>=4.27 in /Users/saji/.pyenv/versions/3.10.0/lib/python3.10/site-packages (from transformers) (4.67.1)\n",
      "Requirement already satisfied: typing-extensions>=4.10.0 in /Users/saji/.pyenv/versions/3.10.0/lib/python3.10/site-packages (from torch) (4.12.2)\n",
      "Requirement already satisfied: networkx in /Users/saji/.pyenv/versions/3.10.0/lib/python3.10/site-packages (from torch) (3.4.2)\n",
      "Requirement already satisfied: jinja2 in /Users/saji/.pyenv/versions/3.10.0/lib/python3.10/site-packages (from torch) (3.1.5)\n",
      "Requirement already satisfied: fsspec in /Users/saji/.pyenv/versions/3.10.0/lib/python3.10/site-packages (from torch) (2024.12.0)\n",
      "Requirement already satisfied: sympy==1.13.1 in /Users/saji/.pyenv/versions/3.10.0/lib/python3.10/site-packages (from torch) (1.13.1)\n",
      "Requirement already satisfied: mpmath<1.4,>=1.1.0 in /Users/saji/.pyenv/versions/3.10.0/lib/python3.10/site-packages (from sympy==1.13.1->torch) (1.3.0)\n",
      "Requirement already satisfied: MarkupSafe>=2.0 in /Users/saji/.pyenv/versions/3.10.0/lib/python3.10/site-packages (from jinja2->torch) (3.0.2)\n",
      "Requirement already satisfied: charset-normalizer<4,>=2 in /Users/saji/.pyenv/versions/3.10.0/lib/python3.10/site-packages (from requests->transformers) (3.4.1)\n",
      "Requirement already satisfied: idna<4,>=2.5 in /Users/saji/.pyenv/versions/3.10.0/lib/python3.10/site-packages (from requests->transformers) (3.10)\n",
      "Requirement already satisfied: urllib3<3,>=1.21.1 in /Users/saji/.pyenv/versions/3.10.0/lib/python3.10/site-packages (from requests->transformers) (2.3.0)\n",
      "Requirement already satisfied: certifi>=2017.4.17 in /Users/saji/.pyenv/versions/3.10.0/lib/python3.10/site-packages (from requests->transformers) (2025.1.31)\n",
      "Requirement already satisfied: tqdm in /Users/saji/.pyenv/versions/3.10.0/lib/python3.10/site-packages (4.67.1)\n"
     ]
    }
   ],
   "source": [
    "!pip install datasets\n",
    "!pip install transformers\n",
    "!pip install transformers torch\n",
    "!pip install tqdm"
   ]
  },
  {
   "cell_type": "code",
   "execution_count": 3,
   "metadata": {
    "colab": {
     "base_uri": "https://localhost:8080/"
    },
    "id": "CRrMiMnLV9xY",
    "outputId": "5193e819-f2cb-4032-99df-ced1ea7b4191",
    "scrolled": true
   },
   "outputs": [
    {
     "name": "stdout",
     "output_type": "stream",
     "text": [
      "Python 3.10.0\n"
     ]
    }
   ],
   "source": [
    "!python --version"
   ]
  },
  {
   "cell_type": "markdown",
   "metadata": {},
   "source": [
    "# Step 2 - Load a dataset from Hugging Face"
   ]
  },
  {
   "cell_type": "code",
   "execution_count": 4,
   "metadata": {},
   "outputs": [
    {
     "name": "stderr",
     "output_type": "stream",
     "text": [
      "/Users/saji/.pyenv/versions/3.10.0/lib/python3.10/site-packages/tqdm/auto.py:21: TqdmWarning: IProgress not found. Please update jupyter and ipywidgets. See https://ipywidgets.readthedocs.io/en/stable/user_install.html\n",
      "  from .autonotebook import tqdm as notebook_tqdm\n"
     ]
    },
    {
     "data": {
      "text/html": [
       "<div>\n",
       "<style scoped>\n",
       "    .dataframe tbody tr th:only-of-type {\n",
       "        vertical-align: middle;\n",
       "    }\n",
       "\n",
       "    .dataframe tbody tr th {\n",
       "        vertical-align: top;\n",
       "    }\n",
       "\n",
       "    .dataframe thead th {\n",
       "        text-align: right;\n",
       "    }\n",
       "</style>\n",
       "<table border=\"1\" class=\"dataframe\">\n",
       "  <thead>\n",
       "    <tr style=\"text-align: right;\">\n",
       "      <th></th>\n",
       "      <th>text</th>\n",
       "      <th>label</th>\n",
       "    </tr>\n",
       "  </thead>\n",
       "  <tbody>\n",
       "    <tr>\n",
       "      <th>0</th>\n",
       "      <td>@user @user what do these '1/2 naked pics' hav...</td>\n",
       "      <td>1</td>\n",
       "    </tr>\n",
       "    <tr>\n",
       "      <th>1</th>\n",
       "      <td>OH: “I had a blue penis while I was this” [pla...</td>\n",
       "      <td>1</td>\n",
       "    </tr>\n",
       "    <tr>\n",
       "      <th>2</th>\n",
       "      <td>@user @user That's coming, but I think the vic...</td>\n",
       "      <td>1</td>\n",
       "    </tr>\n",
       "    <tr>\n",
       "      <th>3</th>\n",
       "      <td>I think I may be finally in with the in crowd ...</td>\n",
       "      <td>2</td>\n",
       "    </tr>\n",
       "    <tr>\n",
       "      <th>4</th>\n",
       "      <td>@user Wow,first Hugo Chavez and now Fidel Cast...</td>\n",
       "      <td>0</td>\n",
       "    </tr>\n",
       "  </tbody>\n",
       "</table>\n",
       "</div>"
      ],
      "text/plain": [
       "                                                text  label\n",
       "0  @user @user what do these '1/2 naked pics' hav...      1\n",
       "1  OH: “I had a blue penis while I was this” [pla...      1\n",
       "2  @user @user That's coming, but I think the vic...      1\n",
       "3  I think I may be finally in with the in crowd ...      2\n",
       "4  @user Wow,first Hugo Chavez and now Fidel Cast...      0"
      ]
     },
     "execution_count": 4,
     "metadata": {},
     "output_type": "execute_result"
    }
   ],
   "source": [
    "from datasets import load_dataset\n",
    "import pandas as pd\n",
    "\n",
    "ds = load_dataset(\"cardiffnlp/tweet_eval\", \"sentiment\")\n",
    "df = pd.DataFrame(ds['test']).head(500)\n",
    "df.head(5)"
   ]
  },
  {
   "cell_type": "code",
   "execution_count": 5,
   "metadata": {},
   "outputs": [],
   "source": [
    "def label_map(x):\n",
    "    if x == 0:\n",
    "        return 'negative'\n",
    "    elif x == 1:\n",
    "        return 'neutral'\n",
    "    elif x == 2:\n",
    "        return 'positive'\n",
    "    return x\n",
    "df['label'] = df['label'].map(label_map)"
   ]
  },
  {
   "cell_type": "markdown",
   "metadata": {},
   "source": [
    "# Step 3 - Run model inference"
   ]
  },
  {
   "cell_type": "markdown",
   "metadata": {},
   "source": [
    "Warning: This step is going to download two models of ~500MB each. \n",
    "\n",
    "**If you don't want to download the models, you can jump to step 4 and use the provided data in the repo instead.**"
   ]
  },
  {
   "cell_type": "markdown",
   "metadata": {},
   "source": [
    "### Run inference with roberta"
   ]
  },
  {
   "cell_type": "code",
   "execution_count": 6,
   "metadata": {
    "scrolled": true
   },
   "outputs": [
    {
     "name": "stderr",
     "output_type": "stream",
     "text": [
      "Some weights of the model checkpoint at cardiffnlp/twitter-roberta-base-sentiment-latest were not used when initializing RobertaForSequenceClassification: ['roberta.pooler.dense.bias', 'roberta.pooler.dense.weight']\n",
      "- This IS expected if you are initializing RobertaForSequenceClassification from the checkpoint of a model trained on another task or with another architecture (e.g. initializing a BertForSequenceClassification model from a BertForPreTraining model).\n",
      "- This IS NOT expected if you are initializing RobertaForSequenceClassification from the checkpoint of a model that you expect to be exactly identical (initializing a BertForSequenceClassification model from a BertForSequenceClassification model).\n",
      "Device set to use mps:0\n"
     ]
    }
   ],
   "source": [
    "# Use a pipeline as a high-level helper\n",
    "from transformers import pipeline\n",
    "\n",
    "pipe = pipeline(\"text-classification\", model=\"cardiffnlp/twitter-roberta-base-sentiment-latest\")"
   ]
  },
  {
   "cell_type": "code",
   "execution_count": 7,
   "metadata": {},
   "outputs": [
    {
     "name": "stderr",
     "output_type": "stream",
     "text": [
      "100%|██████████| 500/500 [00:10<00:00, 48.52it/s]\n"
     ]
    }
   ],
   "source": [
    "import tqdm\n",
    "\n",
    "results = []\n",
    "texts = df['text'].to_list()\n",
    "\n",
    "## Depending on your machine, this should take around 1 minute\n",
    "for text in tqdm.tqdm(texts):\n",
    "    results.append(pipe(text))"
   ]
  },
  {
   "cell_type": "code",
   "execution_count": 8,
   "metadata": {},
   "outputs": [],
   "source": [
    "df['roberta'] = [r[0]['label'] for r in results]\n",
    "df['roberta_score'] = [r[0]['score'] for r in results]"
   ]
  },
  {
   "cell_type": "markdown",
   "metadata": {},
   "source": [
    "### Run inference with gpt2"
   ]
  },
  {
   "cell_type": "code",
   "execution_count": 9,
   "metadata": {},
   "outputs": [
    {
     "name": "stderr",
     "output_type": "stream",
     "text": [
      "Device set to use mps:0\n"
     ]
    }
   ],
   "source": [
    "# Use a pipeline as a high-level helper\n",
    "from transformers import pipeline\n",
    "\n",
    "pipe = pipeline(\"text-classification\", model=\"LYTinn/finetuning-sentiment-model-tweet-gpt2\")"
   ]
  },
  {
   "cell_type": "code",
   "execution_count": 10,
   "metadata": {},
   "outputs": [
    {
     "name": "stderr",
     "output_type": "stream",
     "text": [
      "100%|██████████| 500/500 [00:07<00:00, 64.79it/s]\n"
     ]
    }
   ],
   "source": [
    "import tqdm\n",
    "\n",
    "results = []\n",
    "texts = df['text'].to_list()\n",
    "\n",
    "## Depending on your machine, this should take around 1 minute\n",
    "for text in tqdm.tqdm(texts):\n",
    "    results.append(pipe(text))"
   ]
  },
  {
   "cell_type": "code",
   "execution_count": 11,
   "metadata": {},
   "outputs": [],
   "source": [
    "df['gpt2'] = [r[0]['label'] for r in results]\n",
    "df['gpt2_score'] = [r[0]['score'] for r in results]\n",
    "\n",
    "## map labels back\n",
    "def label_map(x):\n",
    "    if x == 'LABEL_0':\n",
    "        return 'negative'\n",
    "    elif x == 'LABEL_1':\n",
    "        return 'neutral'\n",
    "    elif x == 'LABEL_2':\n",
    "        return 'positive'\n",
    "    return x\n",
    "df['gpt2'] = df['gpt2'].map(label_map)"
   ]
  },
  {
   "cell_type": "markdown",
   "metadata": {},
   "source": [
    "# Step 4 - Pre-processing data and add additional columns"
   ]
  },
  {
   "cell_type": "code",
   "execution_count": 12,
   "metadata": {},
   "outputs": [],
   "source": [
    "## If you skip the model inference, uncomment the code below and load the provided data\n",
    "\n",
    "# df = pd.read_csv('tweets.csv')"
   ]
  },
  {
   "cell_type": "code",
   "execution_count": 13,
   "metadata": {},
   "outputs": [],
   "source": [
    "df[\"input_length\"] = df[\"text\"].str.len()"
   ]
  },
  {
   "cell_type": "markdown",
   "metadata": {},
   "source": [
    "# Step 5 - Start Zeno for interactive slicing\n",
    "\n",
    "In this step, you need to create 5 slices in the Zeno interface and derive meaningful insights.\n",
    "\n",
    "As a starting point, try to create the two slices we provide:\n",
    "\n",
    "1. Tweets with hashtags\n",
    "2. Tweets with strong positive words (e.g., love) -- you can determine the exact words"
   ]
  },
  {
   "attachments": {},
   "cell_type": "markdown",
   "metadata": {},
   "source": [
    "Creating slices in Zeno is straightforward: Just click on the '+' button for 'create a new slice', and you can define the slice using existing column attributes, with simple value macthing or even regular expression.\n",
    "\n",
    "![image.png](images/image.png)\n",
    "\n",
    "There are more fun features in Zeno, including interactive metadata & model comparison -- feel free to check the teaser video in [README](https://github.com/zeno-ml/zeno) of the Zeno repository."
   ]
  },
  {
   "cell_type": "code",
   "execution_count": 14,
   "metadata": {
    "scrolled": true
   },
   "outputs": [
    {
     "name": "stdout",
     "output_type": "stream",
     "text": [
      "API Key Loaded: zen_y... (hidden for security)\n",
      "Successfully updated project.\n",
      "Access your project at  https://hub.zenoml.com/project/b01949ef-afb7-4084-a6c9-4047904cc65e/Tweet%20Sentiment%20Analysis\n"
     ]
    },
    {
     "name": "stderr",
     "output_type": "stream",
     "text": [
      "100%|██████████| 1/1 [00:00<00:00,  1.08it/s]\n"
     ]
    },
    {
     "name": "stdout",
     "output_type": "stream",
     "text": [
      "Successfully uploaded data\n"
     ]
    },
    {
     "name": "stderr",
     "output_type": "stream",
     "text": [
      "100%|██████████| 1/1 [00:00<00:00,  1.17it/s]\n"
     ]
    },
    {
     "name": "stdout",
     "output_type": "stream",
     "text": [
      "Successfully uploaded system\n"
     ]
    },
    {
     "name": "stderr",
     "output_type": "stream",
     "text": [
      "100%|██████████| 1/1 [00:00<00:00,  1.39it/s]"
     ]
    },
    {
     "name": "stdout",
     "output_type": "stream",
     "text": [
      "Successfully uploaded system\n",
      "Data uploaded successfully to Zeno!\n"
     ]
    },
    {
     "name": "stderr",
     "output_type": "stream",
     "text": [
      "\n"
     ]
    }
   ],
   "source": [
    "import os\n",
    "from dotenv import load_dotenv\n",
    "from zeno_client import ZenoClient, ZenoMetric\n",
    "import pandas as pd\n",
    "\n",
    "load_dotenv()\n",
    "API_KEY = os.getenv(\"ZENO_API_KEY\")\n",
    "\n",
    "if not API_KEY:\n",
    "    raise ValueError(\"API_KEY is not set! Please check your .env file.\")\n",
    "\n",
    "print(f\"API Key Loaded: {API_KEY[:5]}... (hidden for security)\")\n",
    "\n",
    "df = pd.read_csv('tweets.csv')\n",
    "df = df.reset_index()\n",
    "df[\"index\"] = df[\"index\"].astype(str)  # Fix dtype issue\n",
    "\n",
    "client = ZenoClient(API_KEY)\n",
    "\n",
    "project = client.create_project(\n",
    "    name=\"Tweet Sentiment Analysis\",\n",
    "    view=\"text-classification\",\n",
    "    metrics=[\n",
    "        ZenoMetric(name=\"accuracy\", type=\"mean\", columns=[\"correct\"]),\n",
    "    ]\n",
    ")\n",
    "\n",
    "project.upload_dataset(df, id_column=\"index\", data_column=\"text\", label_column=\"label\")\n",
    "\n",
    "models = ['roberta', 'gpt2']\n",
    "for model in models:\n",
    "    df_system = df[['index', model]].copy()  # Prevent SettingWithCopyWarning\n",
    "    df_system.loc[:, \"correct\"] = (df_system[model] == df[\"label\"]).astype(int)  # Fix warning\n",
    "    project.upload_system(df_system, name=model, id_column=\"index\", output_column=model)\n",
    "\n",
    "print(\"Data uploaded successfully to Zeno!\")\n"
   ]
  },
  {
   "cell_type": "markdown",
   "metadata": {},
   "source": [
    "After running the code above, you should be able to access Zeno in http://localhost:8231"
   ]
  },
  {
   "cell_type": "markdown",
   "metadata": {},
   "source": [
    "\n",
    "After successfully creating the two slices, come up with three *additional* slices you want to check and **create** the slices in the Zeno interface.\n",
    "\n",
    "There are two directions to identify useful slices:\n",
    "- Top-down: Think about what kinds of things the model can struggle with, and come up with some slices.\n",
    "- Bottom-up: Look at model (mis-)predictions, come up with hypotheses, and translate them into data slices.\n",
    "\n",
    "3. [YOUR CHOICE]\n",
    "4. [YOUR CHOICE]\n",
    "5. [YOUR CHOICE]"
   ]
  },
  {
   "cell_type": "code",
   "execution_count": 15,
   "metadata": {},
   "outputs": [],
   "source": [
    "custom_slice_descriptions = [    \n",
    "    \"Tweets with Negative Words: This slice focuses on tweets that contain negative words such as 'hate,' 'lost,' 'worst,' 'bad,' 'sad,' 'unhappy,' 'failure,' 'awful,' 'horrible,' and 'terrible.' The purpose is to evaluate if the model correctly classifies tweets with strong negative sentiment and identify any misclassifications.\",\n",
    "    \n",
    "    \"Tweets with User Details: This slice captures tweets that include '@' mentions, indicating direct interactions with other users. The goal is to analyze if the presence of user references affects sentiment classification and whether the model treats them differently.\",\n",
    "    \n",
    "    \"Short vs. Long Tweets: This slice categorizes tweets based on their length, where short tweets have an input length of ≤ 10 and long tweets have an input length of < 30. The purpose is to examine whether tweet length impacts sentiment classification accuracy and if the model performs differently on brief vs. detailed text.\",\n",
    "    \n",
    "    \"Tweets with Repeated Letters: This slice identifies tweets that contain elongated words with repeated letters (e.g., 'loooove,' 'happyyyy') using a regular expression pattern. The goal is to determine if the model correctly understands exaggerated words, which often carry strong emotions.\",\n",
    "    \n",
    "    \"Tweets with URLs: This slice filters tweets that contain links such as 'www,' 'https,' or 'http.' The objective is to analyze whether the model is affected by the presence of URLs and if it can correctly classify the sentiment without being misled by external references.\"\n",
    "]\n"
   ]
  },
  {
   "cell_type": "markdown",
   "metadata": {},
   "source": [
    "# Step 6 - Write down three addition data slices you want to create but do not have the metadata for slicing"
   ]
  },
  {
   "cell_type": "markdown",
   "metadata": {},
   "source": [
    "In the previous step, you might have already come up with some slices you wanted to create but found it hard to do with existing metadata. Write down three of such slices in this step.\n",
    "\n",
    "Example: \n",
    "- I want to create a slice on tweets using slangs\n",
    "- I want to create a slice on non-English tweets (if any)"
   ]
  },
  {
   "cell_type": "code",
   "execution_count": 16,
   "metadata": {},
   "outputs": [],
   "source": [
    "custom_slice_descriptions = [\n",
    "    \"Tweets with Exaggeration: This slice includes tweets that use extreme or exaggerated language, like 'I’ve been waiting forever!' or 'This is the worst thing to ever happen!' The purpose is to analyze if the model can correctly identify sentiment in exaggerated statements without misclassifying them as overly positive or negative.\",\n",
    "    \n",
    "    \"Tweets with Misspellings: This slice captures tweets with spelling mistakes or informal abbreviations, such as 'luv' (love), 'gud' (good), 'tho' (though),  '4' (for). The purpose is to check if the model can still understand the correct sentiment even when words are misspelled or written in a casual way.\",\n",
    "    \n",
    "    \"Tweets with Numerical Data: This slice includes tweets that contain numbers, percentages, or statistics, like '67.4 kg gold missing from Delhi airport in 7 months', 'they're already producing Model 3 or S'. The purpose is to evaluate whether the presence of numerical information affects sentiment classification and if the model can focus on the context rather than the numbers.\"\n",
    "]"
   ]
  },
  {
   "cell_type": "markdown",
   "metadata": {},
   "source": [
    "# Step 7 - Generate more test cases with Large Language Models"
   ]
  },
  {
   "cell_type": "markdown",
   "metadata": {},
   "source": [
    "Select one slice from the three you wrote down and generate **10 test cases** using LLMs, which can include average case, boundary case, or difficult case.\n",
    "\n",
    "Your input can be in the following format:\n",
    "\n",
    "> Examples:\n",
    "> - OH: “I had a blue penis while I was this” [playing with Google Earth VR]\n",
    "> - @user @user That’s coming, but I think the victims are going to be Medicaid recipients.\n",
    "> - I think I may be finally in with the in crowd #mannequinchallenge  #grads2014 @user\n",
    "> \n",
    "> Generate more tweets using slangs.\n",
    "\n",
    "The first part of **Examples** conditions the LLM on the style, length, and content of examples. The second part of **Instructions** instructs what kind of examples you want LLM to generate.\n",
    "\n",
    "Use our provided GPTs to start the task: [llm-based-test-case-generator](https://chatgpt.com/g/g-982cylVn2-llm-based-test-case-generator). If you do not have access to GPTs, use the plain ChatGPT or other LLM providers you have access to instead."
   ]
  },
  {
   "cell_type": "code",
   "execution_count": 17,
   "metadata": {},
   "outputs": [],
   "source": [
    "## Write down the slice you select\n",
    "\n",
    "slice_description = \"Tweets with Numerical Data: This slice includes tweets that contain numbers, percentages, or statistics, like '67.4 kg gold missing from Delhi airport in 7 months', 'they're already producing Model 3 or S'. The purpose is to evaluate whether the presence of numerical information affects sentiment classification and if the model can focus on the context rather than the numbers.\"\n",
    "\n",
    "## Write down all generated test cases here\n",
    "\n",
    "generated_test_cases = [\n",
    "    \"67.4 kg of gold went missing from Delhi airport over 7 months—how does that even happen?\",\n",
    "    \"Tesla just announced they’ve produced 10,000 Model Y units this month.\",\n",
    "    \"The company’s revenue jumped by 15% this quarter, exceeding expectations.\",\n",
    "    \"Scientists discovered a new exoplanet 12.5 light-years away from Earth.\",\n",
    "    \"2,500 people attended the rally despite heavy rain. That’s dedication.\",\n",
    "    \"A new study says 1 in 3 adults don’t get enough sleep—no wonder we’re all exhausted.\",\n",
    "    \"The price of Bitcoin dropped below $40,000 for the first time in 6 months.\",\n",
    "    \"My flight is delayed by 3 hours, meaning I won’t land until 2 AM.\",\n",
    "    \"The movie grossed $150 million worldwide in its opening weekend.\",\n",
    "    \"They’ve already built 5 prototypes of the new EV model. Can’t wait to see the final version.\",\n",
    "]\n"
   ]
  }
 ],
 "metadata": {
  "colab": {
   "provenance": []
  },
  "kernelspec": {
   "display_name": "Python 3",
   "language": "python",
   "name": "python3"
  },
  "language_info": {
   "codemirror_mode": {
    "name": "ipython",
    "version": 3
   },
   "file_extension": ".py",
   "mimetype": "text/x-python",
   "name": "python",
   "nbconvert_exporter": "python",
   "pygments_lexer": "ipython3",
   "version": "3.10.0"
  }
 },
 "nbformat": 4,
 "nbformat_minor": 4
}
